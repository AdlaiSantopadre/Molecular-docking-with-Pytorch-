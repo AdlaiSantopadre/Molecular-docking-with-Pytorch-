{
  "nbformat": 4,
  "nbformat_minor": 0,
  "metadata": {
    "colab": {
      "provenance": [],
      "authorship_tag": "ABX9TyP33SWQCVJy/UB8ZbMKZFL2"
    },
    "kernelspec": {
      "name": "python3",
      "display_name": "Python 3"
    },
    "language_info": {
      "name": "python"
    }
  },
  "cells": [
    {
      "cell_type": "code",
      "source": [
        "!pip install rdkit-pypi --no-deps --force-reinstall"
      ],
      "metadata": {
        "colab": {
          "base_uri": "https://localhost:8080/"
        },
        "id": "VJP6FFS-YAW1",
        "outputId": "1535d658-f50b-435a-e34f-611458ce862c"
      },
      "execution_count": 1,
      "outputs": [
        {
          "output_type": "stream",
          "name": "stdout",
          "text": [
            "Collecting rdkit-pypi\n",
            "  Using cached rdkit_pypi-2022.9.5-cp311-cp311-manylinux_2_17_x86_64.manylinux2014_x86_64.whl.metadata (3.9 kB)\n",
            "Using cached rdkit_pypi-2022.9.5-cp311-cp311-manylinux_2_17_x86_64.manylinux2014_x86_64.whl (29.4 MB)\n",
            "Installing collected packages: rdkit-pypi\n",
            "  Attempting uninstall: rdkit-pypi\n",
            "    Found existing installation: rdkit-pypi 2022.9.5\n",
            "    Uninstalling rdkit-pypi-2022.9.5:\n",
            "      Successfully uninstalled rdkit-pypi-2022.9.5\n",
            "Successfully installed rdkit-pypi-2022.9.5\n"
          ]
        }
      ]
    },
    {
      "cell_type": "code",
      "execution_count": 6,
      "metadata": {
        "colab": {
          "base_uri": "https://localhost:8080/",
          "height": 232
        },
        "id": "m5551DKUXUKo",
        "outputId": "330b481f-6d58-4e30-c49b-325a3417fb79"
      },
      "outputs": [
        {
          "output_type": "stream",
          "name": "stdout",
          "text": [
            "Original SMILES: FC=C=N\n",
            "Original SELFIES: [F][C][=C][=N]\n",
            "Mutated SMILES: FC=C=( → valido? False\n",
            "Mutated SELFIES: [F][C][=C][=N] → valido? True\n"
          ]
        },
        {
          "output_type": "stream",
          "name": "stderr",
          "text": [
            "[10:43:51] SMILES Parse Error: syntax error while parsing: FC=C=(\n",
            "[10:43:51] SMILES Parse Error: Failed parsing SMILES 'FC=C=(' for input: 'FC=C=('\n"
          ]
        },
        {
          "output_type": "display_data",
          "data": {
            "image/png": "[encoded data removed]",
            "text/plain": [
              "<IPython.core.display.Image object>"
            ]
          },
          "metadata": {}
        }
      ],
      "source": [
        "\n",
        "# --- Sezione installazione librerie (esegui solo la prima volta) ---\n",
        "!pip install selfies  -q\n",
        "\n",
        "# --- Codice per il confronto e visualizzazione ---\n",
        "import random\n",
        "import selfies as sf\n",
        "from rdkit import Chem\n",
        "from rdkit.Chem import Draw\n",
        "from rdkit.rdBase import BlockLogs\n",
        "from IPython.display import display\n",
        "\n",
        "BlockLogs()\n",
        "\n",
        "# Molecola iniziale\n",
        "original_smiles = \"FC=C=N\"\n",
        "print(\"Original SMILES:\", original_smiles)\n",
        "\n",
        "# Converti a SELFIES\n",
        "original_selfies = sf.encoder(original_smiles)\n",
        "print(\"Original SELFIES:\", original_selfies)\n",
        "\n",
        "# Funzione: mutazione casuale\n",
        "def mutate_string(s, charset):\n",
        "    if not s:\n",
        "        return s\n",
        "    s_list = list(s)\n",
        "    pos = random.randint(0, len(s_list) - 1)\n",
        "    s_list[pos] = random.choice(charset)\n",
        "    return ''.join(s_list)\n",
        "\n",
        "# Charset SMILES semplificato\n",
        "smiles_charset = list(\"CNOF=#:()123\")\n",
        "\n",
        "# Charset SELFIES\n",
        "selfies_alphabet = list(sf.get_alphabet_from_selfies([original_selfies]))\n",
        "\n",
        "# Mutazione SMILES\n",
        "mutated_smiles = mutate_string(original_smiles, smiles_charset)\n",
        "mol_mutated_smiles = Chem.MolFromSmiles(mutated_smiles)\n",
        "print(\"Mutated SMILES:\", mutated_smiles, \"→ valido?\", mol_mutated_smiles is not None)\n",
        "\n",
        "# Mutazione SELFIES\n",
        "selfies_tokens = list(sf.split_selfies(original_selfies)) # Convert the generator to a list\n",
        "pos = random.randint(0, len(selfies_tokens) - 1)\n",
        "selfies_tokens[pos] = random.choice(selfies_alphabet)\n",
        "mutated_selfies = \"\".join(selfies_tokens)\n",
        "mutated_selfies_decoded = sf.decoder(mutated_selfies)\n",
        "mol_mutated_selfies = Chem.MolFromSmiles(mutated_selfies_decoded)\n",
        "print(\"Mutated SELFIES:\", mutated_selfies, \"→ valido?\", mol_mutated_selfies is not None)\n",
        "\n",
        "# Molecole da visualizzare\n",
        "mol_original = Chem.MolFromSmiles(original_smiles)\n",
        "mol_list = [mol_original,\n",
        "            mol_mutated_smiles if mol_mutated_smiles else None,\n",
        "            mol_mutated_selfies]\n",
        "\n",
        "titles = [\"Original\", \"Mutated SMILES\", \"Mutated SELFIES\"]\n",
        "img = Draw.MolsToGridImage(mol_list, molsPerRow=3, subImgSize=(250, 250), legends=titles)\n",
        "\n",
        "display(img)"
      ]
    },
    {
      "cell_type": "markdown",
      "source": [],
      "metadata": {
        "id": "7pH5wgrLX_-7"
      }
    },
    {
      "cell_type": "code",
      "source": [
        "\n",
        "# Mutazione SELFIES\n",
        "selfies_tokens = list(sf.split_selfies(original_selfies)) # Convert the generator to a list\n",
        "pos = random.randint(0, len(selfies_tokens) - 1)\n",
        "selfies_tokens[pos] = random.choice(selfies_alphabet)\n",
        "mutated_selfies = \"\".join(selfies_tokens)\n",
        "mutated_selfies_decoded = sf.decoder(mutated_selfies)\n",
        "mol_mutated_selfies = Chem.MolFromSmiles(mutated_selfies_decoded)\n",
        "print(\"Mutated SELFIES:\", mutated_selfies, \"→ valido?\", mol_mutated_selfies is not None)"
      ],
      "metadata": {
        "colab": {
          "base_uri": "https://localhost:8080/"
        },
        "id": "BlTplXijYAwh",
        "outputId": "95b35572-f8e8-43f3-9b8c-d736604be2cb"
      },
      "execution_count": 7,
      "outputs": [
        {
          "output_type": "stream",
          "name": "stdout",
          "text": [
            "Mutated SELFIES: [F][C][=C][C] → valido? True\n"
          ]
        }
      ]
    },
    {
      "cell_type": "code",
      "source": [],
      "metadata": {
        "id": "N-bNCfOhYBIu"
      },
      "execution_count": null,
      "outputs": []
    }
  ]
}